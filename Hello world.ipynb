{
 "metadata": {
  "name": "",
  "signature": "sha256:faf3eb35b9eedd63d99ae9de832e2e95594519a452cb69e7387a65e3b3ed6cb7"
 },
 "nbformat": 3,
 "nbformat_minor": 0,
 "worksheets": [
  {
   "cells": [
    {
     "cell_type": "markdown",
     "metadata": {},
     "source": [
      "# Pemrograman Python\n",
      "\n",
      "Berikut adalah coding untuk menampilkan hello world menggunakan Python"
     ]
    },
    {
     "cell_type": "code",
     "collapsed": false,
     "input": [
      "print \"hello world\""
     ],
     "language": "python",
     "metadata": {},
     "outputs": [
      {
       "output_type": "stream",
       "stream": "stdout",
       "text": [
        "hello world\n"
       ]
      }
     ],
     "prompt_number": 1
    }
   ],
   "metadata": {}
  }
 ]
}